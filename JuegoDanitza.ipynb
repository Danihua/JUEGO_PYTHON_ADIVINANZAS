{
 "cells": [
  {
   "cell_type": "code",
   "execution_count": null,
   "metadata": {},
   "outputs": [],
   "source": [
    "# Juego de adivinanzas\n",
    "import time\n",
    "import random\n",
    "inicio = time.time()\n",
    "numero_de_intentos = 0\n",
    "numero_minimo = 0\n",
    "numero_maximo = 10\n",
    "print('inicio')\n",
    "print(f\"escribe tu nombre\")\n",
    "nombre = input(\"escribe tu nombre: \")\n",
    "while True:\n",
    "  print(f\"hola {nombre}\")\n",
    "  numero_secreto = random.randint(numero_minimo, numero_maximo)\n",
    "  print(f\"bueno {nombre} tienes que adivinar el numero entero, puede ser entre: {numero_minimo} y {numero_maximo}, tienes 5 oportunidades ¿que numero propones?\")\n",
    "  while numero_de_intentos < 5:\n",
    "    numero = int(input(\"¿cual propones?: \"))\n",
    "    numero_de_intentos = numero_de_intentos + 1\n",
    "    if numero < numero_secreto:\n",
    "      print(\"tu numero esta por debajo del numero secreto.\")\n",
    "    if numero > numero_secreto:\n",
    "      print(\"tu numero esta por arriba del numero secreto.\")\n",
    "    if numero == numero_secreto:\n",
    "      break\n",
    "  if numero == numero_secreto:\n",
    "    numero_de_intentos = str(numero_de_intentos)\n",
    "    print(f\"felicitacion {nombre}, has adivinado el numero secreto en {numero_de_intentos} intentos\")\n",
    "    print(f\"ganaste\")\n",
    "  elif numero != numero_secreto:\n",
    "    numero_secreto = str(numero_secreto)\n",
    "    print(f\"fallaste, el numero secreto era {numero_secreto}\")\n",
    "    print(f\"bueno se acabaron las oportunidades si quieres seguir jugando tienes que escribir ´si´, por lo contrario escribe ´no´\")      \n",
    "  opciones = input(\"¿quieres seguir jugando? si o no: \")\n",
    "  if opciones == \"no\":\n",
    "              print(\"fin del juego\")\n",
    "              break\n",
    "              fin = time.time()             \n",
    "  elif opciones == \"si\": time.sleep(1)"
   ]
  }
 ],
 "metadata": {
  "kernelspec": {
   "display_name": "Python 3.10.8 64-bit",
   "language": "python",
   "name": "python3"
  },
  "language_info": {
   "name": "python",
   "version": "3.10.8"
  },
  "orig_nbformat": 4,
  "vscode": {
   "interpreter": {
    "hash": "2d0abe5f30a15a1a2dcd598f175e84b4219c221b6dc35ac637f623bca44c8a0c"
   }
  }
 },
 "nbformat": 4,
 "nbformat_minor": 2
}
